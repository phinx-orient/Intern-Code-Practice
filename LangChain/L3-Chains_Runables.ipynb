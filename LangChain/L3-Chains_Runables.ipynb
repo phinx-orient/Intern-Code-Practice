{
 "cells": [
  {
   "cell_type": "markdown",
   "id": "52824b89-532a-4e54-87e9-1410813cd39e",
   "metadata": {},
   "source": [
    "# Chains in LangChain\n",
    "\n",
    "## Outline\n",
    "\n",
    "- LLMChain\n",
    "- Sequential Chains\n",
    "  - SimpleSequentialChain\n",
    "  - SequentialChain\n",
    "- Router Chain\n"
   ]
  },
  {
   "cell_type": "code",
   "execution_count": null,
   "id": "f835db5d",
   "metadata": {},
   "outputs": [],
   "source": [
    "# !pip install langchain langchain-fireworks pandas python-dotenv langchain_community"
   ]
  },
  {
   "cell_type": "code",
   "execution_count": null,
   "id": "541eb2f1",
   "metadata": {
    "height": 48,
    "tags": []
   },
   "outputs": [],
   "source": [
    "import warnings\n",
    "\n",
    "warnings.filterwarnings(\"ignore\")"
   ]
  },
  {
   "cell_type": "code",
   "execution_count": null,
   "id": "b7ed03ed-1322-49e3-b2a2-33e94fb592ef",
   "metadata": {
    "height": 82,
    "tags": []
   },
   "outputs": [],
   "source": [
    "import os\n",
    "\n",
    "from dotenv import load_dotenv, find_dotenv\n",
    "\n",
    "_ = load_dotenv(find_dotenv())  # read local .env file"
   ]
  },
  {
   "cell_type": "markdown",
   "id": "9f3b61a3-92eb-4891-90ee-1d10607b05ad",
   "metadata": {},
   "source": [
    "Note: LLM's do not always produce the same results. When executing the code in your notebook, you may get slightly different answers that those in the video.\n"
   ]
  },
  {
   "cell_type": "code",
   "execution_count": null,
   "id": "4336d784-65c2-4a11-8489-b445b1fad177",
   "metadata": {
    "height": 235
   },
   "outputs": [],
   "source": [
    "# account for deprecation of LLM model\n",
    "import datetime\n",
    "\n",
    "# Get the current date\n",
    "current_date = datetime.datetime.now().date()\n",
    "\n",
    "# Define the date after which the model should be set to \"gpt-3.5-turbo\"\n",
    "target_date = datetime.date(2024, 6, 12)\n",
    "\n",
    "# Set the model variable based on the current date\n",
    "if current_date > target_date:\n",
    "    llm_model = \"gpt-3.5-turbo\"\n",
    "else:\n",
    "    llm_model = \"gpt-3.5-turbo-0301\""
   ]
  },
  {
   "cell_type": "code",
   "execution_count": null,
   "id": "974acf8e-8f88-42de-88f8-40a82cb58e8b",
   "metadata": {
    "height": 48,
    "tags": []
   },
   "outputs": [],
   "source": [
    "import pandas as pd\n",
    "\n",
    "df = pd.read_csv(\"Data.csv\")"
   ]
  },
  {
   "cell_type": "code",
   "execution_count": null,
   "id": "b7a09c35",
   "metadata": {
    "height": 31,
    "tags": []
   },
   "outputs": [],
   "source": [
    "df.head()"
   ]
  },
  {
   "cell_type": "markdown",
   "id": "04da0bf8",
   "metadata": {},
   "source": [
    "## Simple Chain\n"
   ]
  },
  {
   "cell_type": "code",
   "execution_count": null,
   "id": "8e803cd7",
   "metadata": {},
   "outputs": [],
   "source": [
    "from langchain.chains import SimpleSequentialChain"
   ]
  },
  {
   "cell_type": "code",
   "execution_count": null,
   "id": "2088feb7",
   "metadata": {},
   "outputs": [],
   "source": [
    "llm_model = \"accounts/fireworks/models/llama-v3p1-70b-instruct\"\n",
    "llm = ChatFireworks(temperature=0, model=llm_model)\n",
    "\n",
    "# prompt template 1\n",
    "first_prompt = ChatPromptTemplate.from_template(\n",
    "    \"What is the best name to describe \\\n",
    "    a company that makes {product}?\"\n",
    ")\n",
    "\n",
    "# Chain 1\n",
    "chain_one = LLMChain(llm=llm, prompt=first_prompt)\n",
    "\n",
    "# prompt template 2\n",
    "second_prompt = ChatPromptTemplate.from_template(\n",
    "    \"Write a 20 words description for the following \\\n",
    "    company:{company_name}\"\n",
    ")\n",
    "# chain 2\n",
    "chain_two = LLMChain(llm=llm, prompt=second_prompt)\n",
    "\n",
    "overall_simple_chain = SimpleSequentialChain(\n",
    "    chains=[chain_one, chain_two], verbose=False\n",
    ")"
   ]
  },
  {
   "cell_type": "code",
   "execution_count": null,
   "id": "8f60b59d",
   "metadata": {},
   "outputs": [],
   "source": [
    "print(overall_simple_chain.run(product))"
   ]
  },
  {
   "cell_type": "markdown",
   "id": "8876fa79",
   "metadata": {},
   "source": [
    "New API\n"
   ]
  },
  {
   "cell_type": "code",
   "execution_count": null,
   "id": "9e1f98af",
   "metadata": {},
   "outputs": [],
   "source": [
    "from langchain.schema.output_parser import StrOutputParser\n",
    "\n",
    "overall_simple_chain = (\n",
    "    first_prompt | llm | StrOutputParser() | second_prompt | llm | StrOutputParser()\n",
    ")\n",
    "print(overall_simple_chain.invoke(product))"
   ]
  },
  {
   "cell_type": "markdown",
   "id": "5a5e0a97",
   "metadata": {},
   "source": [
    "## RunablePassThrough, RunableParallel, RunableLambda\n"
   ]
  },
  {
   "cell_type": "code",
   "execution_count": null,
   "id": "709af4b1",
   "metadata": {},
   "outputs": [],
   "source": [
    "from langchain_core.runnables import (\n",
    "    RunnablePassthrough,\n",
    "    RunnableLambda,\n",
    "    RunnableParallel,\n",
    ")"
   ]
  },
  {
   "cell_type": "code",
   "execution_count": null,
   "id": "0cb08b26",
   "metadata": {},
   "outputs": [],
   "source": [
    "chain = RunnablePassthrough() | RunnablePassthrough() | RunnablePassthrough()\n",
    "chain.invoke(\"hello\")"
   ]
  },
  {
   "cell_type": "code",
   "execution_count": null,
   "id": "55149048",
   "metadata": {},
   "outputs": [],
   "source": [
    "def input_to_upper(input: str):\n",
    "    output = input.upper()\n",
    "    return output"
   ]
  },
  {
   "cell_type": "code",
   "execution_count": null,
   "id": "4fa73cd8",
   "metadata": {},
   "outputs": [],
   "source": [
    "chain = RunnablePassthrough() | RunnableLambda(input_to_upper) | RunnablePassthrough()\n",
    "chain.invoke(\"hello\")"
   ]
  },
  {
   "cell_type": "code",
   "execution_count": null,
   "id": "d9adb77e",
   "metadata": {},
   "outputs": [],
   "source": [
    "chain = RunnableParallel({\"x\": RunnablePassthrough(), \"y\": RunnablePassthrough()})"
   ]
  },
  {
   "cell_type": "code",
   "execution_count": null,
   "id": "cd0b96bc",
   "metadata": {},
   "outputs": [],
   "source": [
    "chain.invoke(\"hello\")"
   ]
  },
  {
   "cell_type": "code",
   "execution_count": null,
   "id": "2cef3897",
   "metadata": {},
   "outputs": [],
   "source": [
    "chain = RunnableParallel({\"x\": RunnablePassthrough(), \"y\": lambda z: z[\"input2\"]})"
   ]
  },
  {
   "cell_type": "code",
   "execution_count": null,
   "id": "c31fdd43",
   "metadata": {},
   "outputs": [],
   "source": [
    "chain.invoke({\"input\": \"hello\", \"input2\": \"goodbye\"})"
   ]
  },
  {
   "cell_type": "markdown",
   "id": "370ff81f",
   "metadata": {},
   "source": [
    "### Nested chains - now it gets more complicated!\n"
   ]
  },
  {
   "cell_type": "code",
   "execution_count": null,
   "id": "93455c64",
   "metadata": {},
   "outputs": [],
   "source": [
    "def find_keys_to_uppercase(input: dict):\n",
    "    output = input.get(\"input\", \"not found\").upper()\n",
    "    return output"
   ]
  },
  {
   "cell_type": "code",
   "execution_count": null,
   "id": "7664a1e2",
   "metadata": {},
   "outputs": [],
   "source": [
    "chain = RunnableParallel({\n",
    "    \"x\": RunnablePassthrough() | RunnableLambda(find_keys_to_uppercase),\n",
    "    \"y\": lambda z: z[\"input2\"],\n",
    "})"
   ]
  },
  {
   "cell_type": "code",
   "execution_count": null,
   "id": "af988148",
   "metadata": {},
   "outputs": [],
   "source": [
    "chain.invoke({\"input\": \"hello\", \"input2\": \"goodbye\"})"
   ]
  },
  {
   "cell_type": "markdown",
   "id": "7b5ce18c",
   "metadata": {},
   "source": [
    "## A more complicated chain\n"
   ]
  },
  {
   "cell_type": "markdown",
   "id": "aea4d89e",
   "metadata": {},
   "source": [
    "Deprecated API\n"
   ]
  },
  {
   "cell_type": "code",
   "execution_count": null,
   "id": "4c129ef6",
   "metadata": {
    "height": 31,
    "tags": []
   },
   "outputs": [],
   "source": [
    "# Deprecated API\n",
    "from langchain.chains import SequentialChain\n",
    "\n",
    "llm = ChatFireworks(temperature=0, model=llm_model)\n",
    "\n",
    "# prompt template 1: translate to english\n",
    "first_prompt = ChatPromptTemplate.from_template(\n",
    "    \"Translate the following review to english:\" \"\\n\\n{Review}\"\n",
    ")\n",
    "# chain 1: input= Review and output= English_Review\n",
    "chain_one = LLMChain(llm=llm, prompt=first_prompt, output_key=\"English_Review\")\n",
    "\n",
    "second_prompt = ChatPromptTemplate.from_template(\n",
    "    \"Can you summarize the following review in 1 sentence:\" \"\\n\\n{English_Review}\"\n",
    ")\n",
    "# chain 2: input= English_Review and output= summary\n",
    "chain_two = LLMChain(llm=llm, prompt=second_prompt, output_key=\"summary\")\n",
    "\n",
    "\n",
    "# prompt template 3: translate to english\n",
    "third_prompt = ChatPromptTemplate.from_template(\n",
    "    \"What language is the following review:\\n\\n{Review}\"\n",
    ")\n",
    "# chain 3: input= Review and output= language\n",
    "chain_three = LLMChain(llm=llm, prompt=third_prompt, output_key=\"language\")\n",
    "\n",
    "# prompt template 4: follow up message\n",
    "fourth_prompt = ChatPromptTemplate.from_template(\n",
    "    \"Write a follow up response to the following \"\n",
    "    \"summary in the specified language:\"\n",
    "    \"\\n\\nSummary: {summary}\\n\\nLanguage: {language}\"\n",
    ")\n",
    "# chain 4: input= summary, language and output= followup_message\n",
    "chain_four = LLMChain(llm=llm, prompt=fourth_prompt, output_key=\"followup_message\")\n",
    "\n",
    "# overall_chain: input= Review\n",
    "# and output= English_Review,summary, followup_message\n",
    "overall_chain = SequentialChain(\n",
    "    chains=[chain_one, chain_two, chain_three, chain_four],\n",
    "    input_variables=[\"Review\"],\n",
    "    output_variables=[\"English_Review\", \"summary\", \"followup_message\"],\n",
    "    verbose=True,\n",
    ")"
   ]
  },
  {
   "cell_type": "code",
   "execution_count": null,
   "id": "51b04f45",
   "metadata": {
    "height": 48,
    "tags": []
   },
   "outputs": [],
   "source": [
    "review = df.Review[5]\n",
    "results_old = overall_chain(review)\n",
    "results_old"
   ]
  },
  {
   "cell_type": "markdown",
   "id": "56ca2648",
   "metadata": {},
   "source": [
    "New API for RunableParrallel\n"
   ]
  },
  {
   "cell_type": "code",
   "execution_count": null,
   "id": "96727d4a",
   "metadata": {},
   "outputs": [],
   "source": [
    "from langchain_core.runnables.base import RunnableParallel\n",
    "from langchain_core.tracers.stdout import ConsoleCallbackHandler"
   ]
  },
  {
   "cell_type": "code",
   "execution_count": null,
   "id": "790bc622",
   "metadata": {},
   "outputs": [],
   "source": [
    "first_chain = first_prompt | llm | StrOutputParser()\n",
    "second_chain = second_prompt | llm | StrOutputParser()\n",
    "third_chain = third_prompt | llm | StrOutputParser()\n",
    "fourth_chain = fourth_prompt | llm | StrOutputParser()\n",
    "\n",
    "overall_chain = (\n",
    "    first_chain\n",
    "    | {\n",
    "        \"summary\": second_chain,\n",
    "        \"language\": third_chain,\n",
    "    }\n",
    "    | fourth_chain\n",
    ")\n",
    "# Invoke the overall chain with the input review\n",
    "result = overall_chain.invoke(\n",
    "    {\"Review\": review},\n",
    ")  # config={\"callbacks\": [ConsoleCallbackHandler()]})\n"
   ]
  },
  {
   "cell_type": "code",
   "execution_count": null,
   "id": "4452cee7",
   "metadata": {},
   "outputs": [],
   "source": [
    "print(result)"
   ]
  },
  {
   "cell_type": "code",
   "execution_count": null,
   "id": "dba75924",
   "metadata": {},
   "outputs": [],
   "source": [
    "print(results_old[\"followup_message\"])"
   ]
  },
  {
   "cell_type": "markdown",
   "id": "3041ea4c",
   "metadata": {},
   "source": [
    "## Router Chain(deprecated) , use combination of all 3 Runables\n"
   ]
  },
  {
   "cell_type": "code",
   "execution_count": null,
   "id": "ade83f4f",
   "metadata": {
    "height": 779,
    "tags": []
   },
   "outputs": [],
   "source": [
    "physics_template = \"\"\"You are a very smart physics professor. \\\n",
    "You are great at answering questions about physics in a concise\\\n",
    "and easy to understand manner. \\\n",
    "When you don't know the answer to a question you admit\\\n",
    "that you don't know.\n",
    "\n",
    "Here is a question:\n",
    "{input}\"\"\"\n",
    "\n",
    "\n",
    "math_template = \"\"\"You are a very good mathematician. \\\n",
    "You are great at answering math questions. \\\n",
    "You are so good because you are able to break down \\\n",
    "hard problems into their component parts, \n",
    "answer the component parts, and then put them together\\\n",
    "to answer the broader question.\n",
    "\n",
    "Here is a question:\n",
    "{input}\"\"\"\n",
    "\n",
    "history_template = \"\"\"You are a very good historian. \\\n",
    "You have an excellent knowledge of and understanding of people,\\\n",
    "events and contexts from a range of historical periods. \\\n",
    "You have the ability to think, reflect, debate, discuss and \\\n",
    "evaluate the past. You have a respect for historical evidence\\\n",
    "and the ability to make use of it to support your explanations \\\n",
    "and judgements.\n",
    "\n",
    "Here is a question:\n",
    "{input}\"\"\"\n",
    "\n",
    "\n",
    "computerscience_template = \"\"\" You are a successful computer scientist.\\\n",
    "You have a passion for creativity, collaboration,\\\n",
    "forward-thinking, confidence, strong problem-solving capabilities,\\\n",
    "understanding of theories and algorithms, and excellent communication \\\n",
    "skills. You are great at answering coding questions. \\\n",
    "You are so good because you know how to solve a problem by \\\n",
    "describing the solution in imperative steps \\\n",
    "that a machine can easily interpret and you know how to \\\n",
    "choose a solution that has a good balance between \\\n",
    "time complexity and space complexity. \n",
    "\n",
    "Here is a question:\n",
    "{input}\"\"\""
   ]
  },
  {
   "cell_type": "code",
   "execution_count": null,
   "id": "5f590e9f",
   "metadata": {
    "height": 388,
    "tags": []
   },
   "outputs": [],
   "source": [
    "prompt_infos = [\n",
    "    {\n",
    "        \"name\": \"physics\",\n",
    "        \"description\": \"Good for answering questions about physics\",\n",
    "        \"prompt_template\": physics_template,\n",
    "    },\n",
    "    {\n",
    "        \"name\": \"math\",\n",
    "        \"description\": \"Good for answering math questions\",\n",
    "        \"prompt_template\": math_template,\n",
    "    },\n",
    "    {\n",
    "        \"name\": \"History\",\n",
    "        \"description\": \"Good for answering history questions\",\n",
    "        \"prompt_template\": history_template,\n",
    "    },\n",
    "    {\n",
    "        \"name\": \"computer science\",\n",
    "        \"description\": \"Good for answering computer science questions\",\n",
    "        \"prompt_template\": computerscience_template,\n",
    "    },\n",
    "]"
   ]
  },
  {
   "cell_type": "code",
   "execution_count": null,
   "id": "5d29bbb6",
   "metadata": {},
   "outputs": [],
   "source": [
    "MULTI_PROMPT_ROUTER_TEMPLATE = \"\"\"Given a raw text input to a \\\n",
    "language model select the model prompt best suited for the input. \\\n",
    "You will be given the names of the available prompts and a \\\n",
    "description of what the prompt is best suited for. \\\n",
    "You may also revise the original input if you think that revising\\\n",
    "it will ultimately lead to a better response from the language model.\n",
    "\n",
    "<< FORMATTING >>\n",
    "Return a markdown code snippet with a JSON object formatted to look like:\n",
    "```json\n",
    "{{{{\n",
    "    \"destination\": string \\ name of the prompt to use or \"DEFAULT\"\n",
    "    \"next_inputs\": string \\ a potentially modified version of the original input\n",
    "}}}}\n",
    "```\n",
    "\n",
    "REMEMBER: \"destination\" MUST be one of the candidate prompt \\\n",
    "names specified below OR it can be \"DEFAULT\" if the input is not\\\n",
    "well suited for any of the candidate prompts.\n",
    "REMEMBER: \"next_inputs\" can just be the original input \\\n",
    "if you don't think any modifications are needed.\n",
    "\n",
    "<< CANDIDATE PROMPTS >>\n",
    "{destinations}\n",
    "\n",
    "<< INPUT >>\n",
    "{{input}}\n",
    "\n",
    "<< OUTPUT (remember to include the ```json)>>\"\"\""
   ]
  },
  {
   "cell_type": "code",
   "execution_count": null,
   "id": "31b06fc8",
   "metadata": {
    "height": 78,
    "tags": []
   },
   "outputs": [],
   "source": [
    "from langchain.chains.router import MultiPromptChain\n",
    "from langchain.chains.router.llm_router import LLMRouterChain, RouterOutputParser\n",
    "from langchain.prompts import PromptTemplate\n",
    "\n",
    "llm = ChatFireworks(temperature=0, model=llm_model)\n",
    "\n",
    "destination_chains = {}\n",
    "for p_info in prompt_infos:\n",
    "    name = p_info[\"name\"]\n",
    "    prompt_template = p_info[\"prompt_template\"]\n",
    "    prompt = ChatPromptTemplate.from_template(template=prompt_template)\n",
    "    chain = LLMChain(llm=llm, prompt=prompt)\n",
    "    destination_chains[name] = chain\n",
    "\n",
    "destinations = [f\"{p['name']}: {p['description']}\" for p in prompt_infos]\n",
    "destinations_str = \"\\n\".join(destinations)\n",
    "\n",
    "default_prompt = ChatPromptTemplate.from_template(\"{input}\")\n",
    "default_chain = LLMChain(llm=llm, prompt=default_prompt)\n",
    "\n",
    "router_template = MULTI_PROMPT_ROUTER_TEMPLATE.format(destinations=destinations_str)\n",
    "router_prompt = PromptTemplate(\n",
    "    template=router_template,\n",
    "    input_variables=[\"input\"],\n",
    "    output_parser=RouterOutputParser(),\n",
    ")\n",
    "\n",
    "router_chain = LLMRouterChain.from_llm(llm, router_prompt)\n",
    "\n",
    "chain = MultiPromptChain(\n",
    "    router_chain=router_chain,\n",
    "    destination_chains=destination_chains,\n",
    "    default_chain=default_chain,\n",
    "    verbose=True,\n",
    ")"
   ]
  },
  {
   "cell_type": "code",
   "execution_count": null,
   "id": "d86b2131",
   "metadata": {
    "height": 31,
    "tags": []
   },
   "outputs": [],
   "source": [
    "chain.run(\"What is black body radiation?\")"
   ]
  },
  {
   "cell_type": "code",
   "execution_count": null,
   "id": "3b717379",
   "metadata": {
    "height": 31,
    "tags": []
   },
   "outputs": [],
   "source": [
    "chain.run(\"what is 2 + 2? Think step by step\")"
   ]
  },
  {
   "cell_type": "code",
   "execution_count": null,
   "id": "29e5be01",
   "metadata": {
    "height": 31,
    "tags": []
   },
   "outputs": [],
   "source": [
    "chain.run(\"Why does every cell in our body contain DNA?\")"
   ]
  },
  {
   "cell_type": "markdown",
   "id": "9cbc3f3c",
   "metadata": {},
   "source": [
    "Use Combination of Runable\n"
   ]
  },
  {
   "cell_type": "code",
   "execution_count": null,
   "id": "dc7c2551",
   "metadata": {},
   "outputs": [],
   "source": [
    "from langchain_core.runnables import RunnableLambda, RunnablePassthrough\n",
    "\n",
    "destination_chains = {}\n",
    "for p_info in prompt_infos:\n",
    "    name = p_info[\"name\"]\n",
    "    prompt_template = p_info[\"prompt_template\"]\n",
    "    prompt = ChatPromptTemplate.from_template(prompt_template)\n",
    "    chain = prompt | llm\n",
    "    destination_chains[name] = chain\n",
    "\n",
    "destinations = [f\"{p['name']}: {p['description']}\" for p in prompt_infos]\n",
    "destinations_str = \"\\n\".join(destinations)"
   ]
  },
  {
   "cell_type": "code",
   "execution_count": null,
   "id": "30e25045",
   "metadata": {},
   "outputs": [],
   "source": [
    "destination_chains.keys()"
   ]
  },
  {
   "cell_type": "code",
   "execution_count": null,
   "id": "bfdf6276",
   "metadata": {},
   "outputs": [],
   "source": [
    "print(destinations_str)"
   ]
  },
  {
   "cell_type": "code",
   "execution_count": null,
   "id": "314e8974",
   "metadata": {},
   "outputs": [],
   "source": [
    "from langchain_core.prompts import ChatPromptTemplate\n",
    "from typing_extensions import TypedDict\n",
    "from typing import Literal\n",
    "from operator import itemgetter\n",
    "\n",
    "router_template = MULTI_PROMPT_ROUTER_TEMPLATE.format(destinations=destinations_str)\n",
    "route_prompt = PromptTemplate.from_template(template=router_template)\n"
   ]
  },
  {
   "cell_type": "code",
   "execution_count": null,
   "id": "01ba4537",
   "metadata": {},
   "outputs": [],
   "source": [
    "class RouteQuery(TypedDict):\n",
    "    \"\"\"Route query to destination.\"\"\"\n",
    "\n",
    "    destination: Literal[\"physics\", \"math\", \"History\", \"computer science\"]\n",
    "\n",
    "\n",
    "route_chain = (\n",
    "    router_prompt | llm.with_structured_output(RouteQuery) | itemgetter(\"destination\")\n",
    ")\n",
    "\n",
    "\n",
    "def condition_check(x, chain):\n",
    "    return chain[x[\"destination\"]]\n",
    "\n",
    "\n",
    "chain = (\n",
    "    {\n",
    "        \"destination\": route_chain,  # \"animal\" or \"vegetable\"\n",
    "        \"input\": RunnablePassthrough(),  # pass through input query\n",
    "    }\n",
    "    | RunnableLambda(\n",
    "        # if animal, chain_1. otherwise, chain_2.\n",
    "        lambda x: condition_check(x, destination_chains)\n",
    "    )\n",
    "    | StrOutputParser()\n",
    ")"
   ]
  },
  {
   "cell_type": "code",
   "execution_count": null,
   "id": "4b374752",
   "metadata": {},
   "outputs": [],
   "source": [
    "print(chain.invoke(\"What is 2-3*5 +2\"))"
   ]
  },
  {
   "cell_type": "code",
   "execution_count": null,
   "id": "d76dd378",
   "metadata": {},
   "outputs": [],
   "source": [
    "print(chain.invoke(\"What is black body radiation?\"))"
   ]
  },
  {
   "cell_type": "markdown",
   "id": "70f5eb20",
   "metadata": {},
   "source": [
    "Try another way\n"
   ]
  },
  {
   "cell_type": "code",
   "execution_count": null,
   "id": "099da8eb",
   "metadata": {},
   "outputs": [],
   "source": [
    "# Another way\n",
    "from langchain.output_parsers.json import SimpleJsonOutputParser\n",
    "\n",
    "route_chain = (\n",
    "    router_prompt\n",
    "    | llm  # .with_structured_output(RouteQuery)\n",
    "    | SimpleJsonOutputParser()  # itemgetter(\"destination\")\n",
    ")\n",
    "\n",
    "\n",
    "def condition_check(x, destination_chains):\n",
    "    return destination_chains[x[\"classifier\"][\"destination\"]]\n",
    "\n",
    "\n",
    "chain = (\n",
    "    RunnableParallel(\n",
    "        {\n",
    "            \"classifier\": route_chain,\n",
    "            \"input\": RunnablePassthrough(),\n",
    "        },  # pass through input query\n",
    "    )\n",
    "    | RunnableLambda(\n",
    "        # if animal, chain_1. otherwise, chain_2.\n",
    "        lambda x: condition_check(x, destination_chains)\n",
    "    )\n",
    "    | StrOutputParser()\n",
    ")"
   ]
  },
  {
   "cell_type": "code",
   "execution_count": null,
   "id": "e67f97cc",
   "metadata": {},
   "outputs": [],
   "source": [
    "print(chain.invoke(\"What is 2-3*5 +2\"))"
   ]
  },
  {
   "cell_type": "code",
   "execution_count": null,
   "id": "93651a74",
   "metadata": {},
   "outputs": [],
   "source": [
    "print(chain.invoke(\"What is black body radiation?\"))"
   ]
  }
 ],
 "metadata": {
  "kernelspec": {
   "display_name": "Python 3 (ipykernel)",
   "language": "python",
   "name": "python3"
  },
  "language_info": {
   "codemirror_mode": {
    "name": "ipython",
    "version": 3
   },
   "file_extension": ".py",
   "mimetype": "text/x-python",
   "name": "python",
   "nbconvert_exporter": "python",
   "pygments_lexer": "ipython3",
   "version": "3.11.9"
  }
 },
 "nbformat": 4,
 "nbformat_minor": 5
}
