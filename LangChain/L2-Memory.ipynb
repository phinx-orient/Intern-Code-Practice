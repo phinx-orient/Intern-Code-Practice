{
 "cells": [
  {
   "cell_type": "markdown",
   "id": "a786c77c",
   "metadata": {},
   "source": [
    "# LangChain: Memory\n",
    "\n",
    "## Outline\n",
    "\n",
    "- ConversationBufferMemory\n",
    "- ConversationBufferWindowMemory\n",
    "- ConversationTokenBufferMemory\n",
    "- ConversationSummaryMemory\n"
   ]
  },
  {
   "cell_type": "markdown",
   "id": "1297dcd5",
   "metadata": {},
   "source": [
    "## ConversationBufferMemory\n"
   ]
  },
  {
   "cell_type": "code",
   "execution_count": 8,
   "id": "a1f518f5",
   "metadata": {
    "height": 133,
    "tags": []
   },
   "outputs": [],
   "source": [
    "import os\n",
    "\n",
    "from dotenv import load_dotenv, find_dotenv\n",
    "\n",
    "_ = load_dotenv(find_dotenv())  # read local .env file\n",
    "\n",
    "import warnings\n",
    "\n",
    "warnings.filterwarnings(\"ignore\")"
   ]
  },
  {
   "cell_type": "markdown",
   "id": "2301270b-7a69-40f8-9934-f840499b6ae9",
   "metadata": {},
   "source": [
    "Note: LLM's do not always produce the same results. When executing the code in your notebook, you may get slightly different answers that those in the video.\n"
   ]
  },
  {
   "cell_type": "code",
   "execution_count": 10,
   "id": "20ad6fe2",
   "metadata": {
    "height": 82,
    "tags": []
   },
   "outputs": [],
   "source": [
    "from langchain.chat_models import ChatOpenAI\n",
    "from langchain.chains import ConversationChain\n",
    "from langchain.memory import ConversationBufferMemory\n",
    "from langchain_fireworks.chat_models import ChatFireworks"
   ]
  },
  {
   "cell_type": "code",
   "execution_count": 15,
   "id": "88bdf13d",
   "metadata": {
    "height": 133,
    "tags": []
   },
   "outputs": [],
   "source": [
    "llm_model = \"accounts/fireworks/models/llama-v3p1-70b-instruct\"\n",
    "llm = ChatFireworks(temperature=0.0, model=llm_model)\n",
    "memory = ConversationBufferMemory()\n",
    "conversation = ConversationChain(llm=llm, memory=memory, verbose=True)"
   ]
  },
  {
   "cell_type": "code",
   "execution_count": 16,
   "id": "db24677d",
   "metadata": {
    "height": 31,
    "tags": []
   },
   "outputs": [
    {
     "name": "stdout",
     "output_type": "stream",
     "text": [
      "\n",
      "\n",
      "\u001b[1m> Entering new ConversationChain chain...\u001b[0m\n",
      "Prompt after formatting:\n",
      "\u001b[32;1m\u001b[1;3mThe following is a friendly conversation between a human and an AI. The AI is talkative and provides lots of specific details from its context. If the AI does not know the answer to a question, it truthfully says it does not know.\n",
      "\n",
      "Current conversation:\n",
      "\n",
      "Human: Hi, my name is Phi dep try\n",
      "AI:\u001b[0m\n",
      "\n",
      "\u001b[1m> Finished chain.\u001b[0m\n"
     ]
    },
    {
     "data": {
      "text/plain": [
       "\"Nice to meet you, Phi dep try! I'm delighted to chat with you. I've been trained on a vast amount of text data, including information on various cultures and languages. I couldn't help but notice that your name seems to have a unique structure. Is Phi dep try a name from a specific cultural or linguistic background? I'm curious to learn more about it!\""
      ]
     },
     "execution_count": 16,
     "metadata": {},
     "output_type": "execute_result"
    }
   ],
   "source": [
    "conversation.predict(input=\"Hi, my name is Phi dep try\")"
   ]
  },
  {
   "cell_type": "code",
   "execution_count": 18,
   "id": "cc3ef937",
   "metadata": {
    "height": 31,
    "tags": []
   },
   "outputs": [
    {
     "name": "stdout",
     "output_type": "stream",
     "text": [
      "\n",
      "\n",
      "\u001b[1m> Entering new ConversationChain chain...\u001b[0m\n",
      "Prompt after formatting:\n",
      "\u001b[32;1m\u001b[1;3mThe following is a friendly conversation between a human and an AI. The AI is talkative and provides lots of specific details from its context. If the AI does not know the answer to a question, it truthfully says it does not know.\n",
      "\n",
      "Current conversation:\n",
      "Human: Hi, my name is Phi dep try\n",
      "AI: Nice to meet you, Phi dep try! I'm delighted to chat with you. I've been trained on a vast amount of text data, including information on various cultures and languages. I couldn't help but notice that your name seems to have a unique structure. Is Phi dep try a name from a specific cultural or linguistic background? I'm curious to learn more about it!\n",
      "Human: What is 1+1?\n",
      "AI: A simple yet classic question, Phi dep try! The answer, of course, is 2. In fact, I've been trained on a vast range of mathematical concepts, including basic arithmetic operations like addition. According to my knowledge, the equation 1+1 has been a fundamental part of human mathematics for thousands of years, dating back to ancient civilizations such as the Babylonians and Egyptians. Would you like to explore more mathematical concepts or move on to a different topic?\n",
      "Human: What is 1+1 -5 * 8?\n",
      "AI:\u001b[0m\n",
      "\n",
      "\u001b[1m> Finished chain.\u001b[0m\n"
     ]
    },
    {
     "data": {
      "text/plain": [
       "\"A slightly more complex mathematical expression, Phi dep try! To evaluate this expression, I'll follow the order of operations, also known as PEMDAS (Parentheses, Exponents, Multiplication and Division, and Addition and Subtraction).\\n\\nFirst, I'll calculate the multiplication: 5 * 8 = 40.\\n\\nNext, I'll subtract 40 from the result of 1+1, which is 2. So, 2 - 40 = -38.\\n\\nTherefore, the final answer is -38. By the way, I've been trained on a wide range of mathematical expressions, including algebraic equations and mathematical functions. If you'd like to explore more advanced mathematical concepts or practice solving equations, I'm here to help!\""
      ]
     },
     "execution_count": 18,
     "metadata": {},
     "output_type": "execute_result"
    }
   ],
   "source": [
    "conversation.predict(input=\"What is 1 + 1 - 5 * 8?\")"
   ]
  },
  {
   "cell_type": "code",
   "execution_count": 19,
   "id": "acf3339a",
   "metadata": {
    "height": 31,
    "tags": []
   },
   "outputs": [
    {
     "name": "stdout",
     "output_type": "stream",
     "text": [
      "\n",
      "\n",
      "\u001b[1m> Entering new ConversationChain chain...\u001b[0m\n",
      "Prompt after formatting:\n",
      "\u001b[32;1m\u001b[1;3mThe following is a friendly conversation between a human and an AI. The AI is talkative and provides lots of specific details from its context. If the AI does not know the answer to a question, it truthfully says it does not know.\n",
      "\n",
      "Current conversation:\n",
      "Human: Hi, my name is Phi dep try\n",
      "AI: Nice to meet you, Phi dep try! I'm delighted to chat with you. I've been trained on a vast amount of text data, including information on various cultures and languages. I couldn't help but notice that your name seems to have a unique structure. Is Phi dep try a name from a specific cultural or linguistic background? I'm curious to learn more about it!\n",
      "Human: What is 1+1?\n",
      "AI: A simple yet classic question, Phi dep try! The answer, of course, is 2. In fact, I've been trained on a vast range of mathematical concepts, including basic arithmetic operations like addition. According to my knowledge, the equation 1+1 has been a fundamental part of human mathematics for thousands of years, dating back to ancient civilizations such as the Babylonians and Egyptians. Would you like to explore more mathematical concepts or move on to a different topic?\n",
      "Human: What is 1+1 -5 * 8?\n",
      "AI: A slightly more complex mathematical expression, Phi dep try! To evaluate this expression, I'll follow the order of operations, also known as PEMDAS (Parentheses, Exponents, Multiplication and Division, and Addition and Subtraction).\n",
      "\n",
      "First, I'll calculate the multiplication: 5 * 8 = 40.\n",
      "\n",
      "Next, I'll subtract 40 from the result of 1+1, which is 2. So, 2 - 40 = -38.\n",
      "\n",
      "Therefore, the final answer is -38. By the way, I've been trained on a wide range of mathematical expressions, including algebraic equations and mathematical functions. If you'd like to explore more advanced mathematical concepts or practice solving equations, I'm here to help!\n",
      "Human: What is my name?\n",
      "AI:\u001b[0m\n",
      "\n",
      "\u001b[1m> Finished chain.\u001b[0m\n"
     ]
    },
    {
     "data": {
      "text/plain": [
       "\"Your name is Phi dep try! I remember it from the beginning of our conversation. I've been keeping track of our chat, and I recall that I even asked you about the cultural or linguistic background of your name. Would you like to share more about it, or is there something else you'd like to talk about?\""
      ]
     },
     "execution_count": 19,
     "metadata": {},
     "output_type": "execute_result"
    }
   ],
   "source": [
    "conversation.predict(input=\"What is my name?\")"
   ]
  },
  {
   "cell_type": "code",
   "execution_count": 20,
   "id": "2529400d",
   "metadata": {
    "height": 31,
    "tags": []
   },
   "outputs": [
    {
     "name": "stdout",
     "output_type": "stream",
     "text": [
      "Human: Hi, my name is Phi dep try\n",
      "AI: Nice to meet you, Phi dep try! I'm delighted to chat with you. I've been trained on a vast amount of text data, including information on various cultures and languages. I couldn't help but notice that your name seems to have a unique structure. Is Phi dep try a name from a specific cultural or linguistic background? I'm curious to learn more about it!\n",
      "Human: What is 1+1?\n",
      "AI: A simple yet classic question, Phi dep try! The answer, of course, is 2. In fact, I've been trained on a vast range of mathematical concepts, including basic arithmetic operations like addition. According to my knowledge, the equation 1+1 has been a fundamental part of human mathematics for thousands of years, dating back to ancient civilizations such as the Babylonians and Egyptians. Would you like to explore more mathematical concepts or move on to a different topic?\n",
      "Human: What is 1+1 -5 * 8?\n",
      "AI: A slightly more complex mathematical expression, Phi dep try! To evaluate this expression, I'll follow the order of operations, also known as PEMDAS (Parentheses, Exponents, Multiplication and Division, and Addition and Subtraction).\n",
      "\n",
      "First, I'll calculate the multiplication: 5 * 8 = 40.\n",
      "\n",
      "Next, I'll subtract 40 from the result of 1+1, which is 2. So, 2 - 40 = -38.\n",
      "\n",
      "Therefore, the final answer is -38. By the way, I've been trained on a wide range of mathematical expressions, including algebraic equations and mathematical functions. If you'd like to explore more advanced mathematical concepts or practice solving equations, I'm here to help!\n",
      "Human: What is my name?\n",
      "AI: Your name is Phi dep try! I remember it from the beginning of our conversation. I've been keeping track of our chat, and I recall that I even asked you about the cultural or linguistic background of your name. Would you like to share more about it, or is there something else you'd like to talk about?\n"
     ]
    }
   ],
   "source": [
    "print(memory.buffer)"
   ]
  },
  {
   "cell_type": "code",
   "execution_count": 21,
   "id": "5018cb0a",
   "metadata": {
    "height": 31,
    "tags": []
   },
   "outputs": [
    {
     "data": {
      "text/plain": [
       "{'history': \"Human: Hi, my name is Phi dep try\\nAI: Nice to meet you, Phi dep try! I'm delighted to chat with you. I've been trained on a vast amount of text data, including information on various cultures and languages. I couldn't help but notice that your name seems to have a unique structure. Is Phi dep try a name from a specific cultural or linguistic background? I'm curious to learn more about it!\\nHuman: What is 1+1?\\nAI: A simple yet classic question, Phi dep try! The answer, of course, is 2. In fact, I've been trained on a vast range of mathematical concepts, including basic arithmetic operations like addition. According to my knowledge, the equation 1+1 has been a fundamental part of human mathematics for thousands of years, dating back to ancient civilizations such as the Babylonians and Egyptians. Would you like to explore more mathematical concepts or move on to a different topic?\\nHuman: What is 1+1 -5 * 8?\\nAI: A slightly more complex mathematical expression, Phi dep try! To evaluate this expression, I'll follow the order of operations, also known as PEMDAS (Parentheses, Exponents, Multiplication and Division, and Addition and Subtraction).\\n\\nFirst, I'll calculate the multiplication: 5 * 8 = 40.\\n\\nNext, I'll subtract 40 from the result of 1+1, which is 2. So, 2 - 40 = -38.\\n\\nTherefore, the final answer is -38. By the way, I've been trained on a wide range of mathematical expressions, including algebraic equations and mathematical functions. If you'd like to explore more advanced mathematical concepts or practice solving equations, I'm here to help!\\nHuman: What is my name?\\nAI: Your name is Phi dep try! I remember it from the beginning of our conversation. I've been keeping track of our chat, and I recall that I even asked you about the cultural or linguistic background of your name. Would you like to share more about it, or is there something else you'd like to talk about?\"}"
      ]
     },
     "execution_count": 21,
     "metadata": {},
     "output_type": "execute_result"
    }
   ],
   "source": [
    "memory.load_memory_variables({})"
   ]
  },
  {
   "cell_type": "markdown",
   "id": "cf98e9ff",
   "metadata": {
    "tags": []
   },
   "source": [
    "## ConversationBufferWindowMemory\n"
   ]
  },
  {
   "cell_type": "code",
   "execution_count": 36,
   "id": "66eeccc3",
   "metadata": {
    "height": 31,
    "tags": []
   },
   "outputs": [],
   "source": [
    "from langchain.memory import ConversationBufferWindowMemory"
   ]
  },
  {
   "cell_type": "code",
   "execution_count": 47,
   "id": "3ea6233e",
   "metadata": {
    "height": 31,
    "tags": []
   },
   "outputs": [],
   "source": [
    "memory = ConversationBufferWindowMemory(k=1)"
   ]
  },
  {
   "cell_type": "code",
   "execution_count": 48,
   "id": "dc4553fb",
   "metadata": {
    "height": 99,
    "tags": []
   },
   "outputs": [],
   "source": [
    "memory.save_context({\"input\": \"Hi\"}, {\"output\": \"What's up\"})\n",
    "memory.save_context({\"input\": \"Not much, just hanging\"}, {\"output\": \"Cool\"})\n"
   ]
  },
  {
   "cell_type": "code",
   "execution_count": 49,
   "id": "6a788403",
   "metadata": {
    "height": 31,
    "tags": []
   },
   "outputs": [
    {
     "data": {
      "text/plain": [
       "{'history': 'Human: Not much, just hanging\\nAI: Cool'}"
      ]
     },
     "execution_count": 49,
     "metadata": {},
     "output_type": "execute_result"
    }
   ],
   "source": [
    "memory.load_memory_variables({})"
   ]
  },
  {
   "cell_type": "code",
   "execution_count": 50,
   "id": "4087bc87",
   "metadata": {
    "height": 133,
    "tags": []
   },
   "outputs": [],
   "source": [
    "llm = ChatFireworks(temperature=0.0, model=llm_model)\n",
    "memory = ConversationBufferWindowMemory(k=1)\n",
    "conversation = ConversationChain(llm=llm, memory=memory, verbose=False)"
   ]
  },
  {
   "cell_type": "code",
   "execution_count": 51,
   "id": "4faaa952",
   "metadata": {
    "height": 31,
    "tags": []
   },
   "outputs": [
    {
     "data": {
      "text/plain": [
       "\"Nice to meet you, Phi! I'm delighted to chat with you. I'm an AI designed to engage in conversations, answer questions, and share interesting facts. I've been trained on a vast amount of text data, which allows me to provide information on a wide range of topics. I can tell you about the latest scientific discoveries, explain complex concepts in simple terms, or even recommend books and movies based on your interests. What brings you here today, Phi?\""
      ]
     },
     "execution_count": 51,
     "metadata": {},
     "output_type": "execute_result"
    }
   ],
   "source": [
    "conversation.predict(input=\"Hi, my name is phi\")"
   ]
  },
  {
   "cell_type": "code",
   "execution_count": 54,
   "id": "bb20ddaa",
   "metadata": {
    "height": 31,
    "tags": []
   },
   "outputs": [
    {
     "data": {
      "text/plain": [
       "'2'"
      ]
     },
     "execution_count": 54,
     "metadata": {},
     "output_type": "execute_result"
    }
   ],
   "source": [
    "conversation.predict(input=\"What is 1+1? only return answer\")"
   ]
  },
  {
   "cell_type": "code",
   "execution_count": 55,
   "id": "489b2194",
   "metadata": {
    "height": 31,
    "tags": []
   },
   "outputs": [
    {
     "data": {
      "text/plain": [
       "\"I don't know\""
      ]
     },
     "execution_count": 55,
     "metadata": {},
     "output_type": "execute_result"
    }
   ],
   "source": [
    "conversation.predict(input=\"What is my name?\")"
   ]
  },
  {
   "cell_type": "markdown",
   "id": "d2931b92",
   "metadata": {},
   "source": [
    "## ConversationTokenBufferMemory\n"
   ]
  },
  {
   "cell_type": "code",
   "execution_count": null,
   "id": "9f6d063c",
   "metadata": {
    "height": 31,
    "tags": []
   },
   "outputs": [],
   "source": [
    "#!pip install tiktoken"
   ]
  },
  {
   "cell_type": "code",
   "execution_count": 56,
   "id": "fb9020ed",
   "metadata": {
    "height": 65,
    "tags": []
   },
   "outputs": [],
   "source": [
    "from langchain.memory import ConversationTokenBufferMemory\n",
    "\n",
    "\n",
    "llm = ChatFireworks(temperature=0.0, model=llm_model)"
   ]
  },
  {
   "cell_type": "code",
   "execution_count": 58,
   "id": "43582ee6",
   "metadata": {
    "height": 133,
    "tags": []
   },
   "outputs": [
    {
     "name": "stderr",
     "output_type": "stream",
     "text": [
      "None of PyTorch, TensorFlow >= 2.0, or Flax have been found. Models won't be available and only tokenizers, configuration and file/data utilities can be used.\n"
     ]
    },
    {
     "data": {
      "application/vnd.jupyter.widget-view+json": {
       "model_id": "5f8b9584e8834b41a6683c00ffd98b16",
       "version_major": 2,
       "version_minor": 0
      },
      "text/plain": [
       "tokenizer_config.json:   0%|          | 0.00/26.0 [00:00<?, ?B/s]"
      ]
     },
     "metadata": {},
     "output_type": "display_data"
    },
    {
     "data": {
      "application/vnd.jupyter.widget-view+json": {
       "model_id": "d387ebe5e2e74b6f8e9e815e96f819d7",
       "version_major": 2,
       "version_minor": 0
      },
      "text/plain": [
       "vocab.json:   0%|          | 0.00/1.04M [00:00<?, ?B/s]"
      ]
     },
     "metadata": {},
     "output_type": "display_data"
    },
    {
     "data": {
      "application/vnd.jupyter.widget-view+json": {
       "model_id": "c11b2b7e0294458c8097ebd00b699540",
       "version_major": 2,
       "version_minor": 0
      },
      "text/plain": [
       "merges.txt:   0%|          | 0.00/456k [00:00<?, ?B/s]"
      ]
     },
     "metadata": {},
     "output_type": "display_data"
    },
    {
     "data": {
      "application/vnd.jupyter.widget-view+json": {
       "model_id": "253a42d3ecdb4c6dbd73f23ee813ed3e",
       "version_major": 2,
       "version_minor": 0
      },
      "text/plain": [
       "tokenizer.json:   0%|          | 0.00/1.36M [00:00<?, ?B/s]"
      ]
     },
     "metadata": {},
     "output_type": "display_data"
    },
    {
     "data": {
      "application/vnd.jupyter.widget-view+json": {
       "model_id": "8c087966bcad48a496cb022bfbbe99c9",
       "version_major": 2,
       "version_minor": 0
      },
      "text/plain": [
       "config.json:   0%|          | 0.00/665 [00:00<?, ?B/s]"
      ]
     },
     "metadata": {},
     "output_type": "display_data"
    }
   ],
   "source": [
    "memory = ConversationTokenBufferMemory(llm=llm, max_token_limit=50)\n",
    "memory.save_context({\"input\": \"AI is what?!\"}, {\"output\": \"Amazing!\"})\n",
    "memory.save_context({\"input\": \"Backpropagation is what?\"}, {\"output\": \"Beautiful!\"})\n",
    "memory.save_context({\"input\": \"Chatbots are what?\"}, {\"output\": \"Charming!\"})"
   ]
  },
  {
   "cell_type": "code",
   "execution_count": 59,
   "id": "284288e1",
   "metadata": {
    "height": 31,
    "tags": []
   },
   "outputs": [
    {
     "data": {
      "text/plain": [
       "{'history': 'Human: AI is what?!\\nAI: Amazing!\\nHuman: Backpropagation is what?\\nAI: Beautiful!\\nHuman: Chatbots are what?\\nAI: Charming!'}"
      ]
     },
     "execution_count": 59,
     "metadata": {},
     "output_type": "execute_result"
    }
   ],
   "source": [
    "memory.load_memory_variables({})"
   ]
  }
 ],
 "metadata": {
  "kernelspec": {
   "display_name": "Python 3 (ipykernel)",
   "language": "python",
   "name": "python3"
  },
  "language_info": {
   "codemirror_mode": {
    "name": "ipython",
    "version": 3
   },
   "file_extension": ".py",
   "mimetype": "text/x-python",
   "name": "python",
   "nbconvert_exporter": "python",
   "pygments_lexer": "ipython3",
   "version": "3.11.9"
  }
 },
 "nbformat": 4,
 "nbformat_minor": 5
}
