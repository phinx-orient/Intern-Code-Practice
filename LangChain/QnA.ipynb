{
 "cells": [
  {
   "cell_type": "code",
   "execution_count": 5,
   "metadata": {},
   "outputs": [],
   "source": [
    "llm_model = \"accounts/fireworks/models/llama-v3p1-70b-instruct\"\n",
    "embedding_model = \"nomic-ai/nomic-embed-text-v1.5\""
   ]
  },
  {
   "cell_type": "code",
   "execution_count": 73,
   "metadata": {},
   "outputs": [
    {
     "data": {
      "text/html": [
       "<div>\n",
       "<style scoped>\n",
       "    .dataframe tbody tr th:only-of-type {\n",
       "        vertical-align: middle;\n",
       "    }\n",
       "\n",
       "    .dataframe tbody tr th {\n",
       "        vertical-align: top;\n",
       "    }\n",
       "\n",
       "    .dataframe thead th {\n",
       "        text-align: right;\n",
       "    }\n",
       "</style>\n",
       "<table border=\"1\" class=\"dataframe\">\n",
       "  <thead>\n",
       "    <tr style=\"text-align: right;\">\n",
       "      <th></th>\n",
       "      <th>name</th>\n",
       "      <th>description</th>\n",
       "    </tr>\n",
       "  </thead>\n",
       "  <tbody>\n",
       "    <tr>\n",
       "      <th>0</th>\n",
       "      <td>Women's Campside Oxfords</td>\n",
       "      <td>This ultracomfortable lace-to-toe Oxford boast...</td>\n",
       "    </tr>\n",
       "    <tr>\n",
       "      <th>1</th>\n",
       "      <td>Recycled Waterhog Dog Mat, Chevron Weave</td>\n",
       "      <td>Protect your floors from spills and splashing ...</td>\n",
       "    </tr>\n",
       "    <tr>\n",
       "      <th>2</th>\n",
       "      <td>Infant and Toddler Girls' Coastal Chill Swimsu...</td>\n",
       "      <td>She'll love the bright colors, ruffles and exc...</td>\n",
       "    </tr>\n",
       "    <tr>\n",
       "      <th>3</th>\n",
       "      <td>Refresh Swimwear, V-Neck Tankini Contrasts</td>\n",
       "      <td>Whether you're going for a swim or heading out...</td>\n",
       "    </tr>\n",
       "    <tr>\n",
       "      <th>4</th>\n",
       "      <td>EcoFlex 3L Storm Pants</td>\n",
       "      <td>Our new TEK O2 technology makes our four-seaso...</td>\n",
       "    </tr>\n",
       "    <tr>\n",
       "      <th>...</th>\n",
       "      <td>...</td>\n",
       "      <td>...</td>\n",
       "    </tr>\n",
       "    <tr>\n",
       "      <th>995</th>\n",
       "      <td>Men's  Classic Denim, Standard Fit</td>\n",
       "      <td>Crafted from premium denim that will last wash...</td>\n",
       "    </tr>\n",
       "    <tr>\n",
       "      <th>996</th>\n",
       "      <td>CozyPrint Sweater Fleece Pullover</td>\n",
       "      <td>The ultimate sweater fleece - made from superi...</td>\n",
       "    </tr>\n",
       "    <tr>\n",
       "      <th>997</th>\n",
       "      <td>Women's NRS Endurance Spray Paddling Pants</td>\n",
       "      <td>These comfortable and affordable splash paddli...</td>\n",
       "    </tr>\n",
       "    <tr>\n",
       "      <th>998</th>\n",
       "      <td>Women's Stop Flies Hoodie</td>\n",
       "      <td>This great-looking hoodie uses No Fly Zone Tec...</td>\n",
       "    </tr>\n",
       "    <tr>\n",
       "      <th>999</th>\n",
       "      <td>Modern Utility Bag</td>\n",
       "      <td>This US-made crossbody bag is built with the s...</td>\n",
       "    </tr>\n",
       "  </tbody>\n",
       "</table>\n",
       "<p>1000 rows × 2 columns</p>\n",
       "</div>"
      ],
      "text/plain": [
       "                                                  name  \\\n",
       "0                             Women's Campside Oxfords   \n",
       "1             Recycled Waterhog Dog Mat, Chevron Weave   \n",
       "2    Infant and Toddler Girls' Coastal Chill Swimsu...   \n",
       "3           Refresh Swimwear, V-Neck Tankini Contrasts   \n",
       "4                               EcoFlex 3L Storm Pants   \n",
       "..                                                 ...   \n",
       "995                 Men's  Classic Denim, Standard Fit   \n",
       "996                  CozyPrint Sweater Fleece Pullover   \n",
       "997         Women's NRS Endurance Spray Paddling Pants   \n",
       "998                          Women's Stop Flies Hoodie   \n",
       "999                                 Modern Utility Bag   \n",
       "\n",
       "                                           description  \n",
       "0    This ultracomfortable lace-to-toe Oxford boast...  \n",
       "1    Protect your floors from spills and splashing ...  \n",
       "2    She'll love the bright colors, ruffles and exc...  \n",
       "3    Whether you're going for a swim or heading out...  \n",
       "4    Our new TEK O2 technology makes our four-seaso...  \n",
       "..                                                 ...  \n",
       "995  Crafted from premium denim that will last wash...  \n",
       "996  The ultimate sweater fleece - made from superi...  \n",
       "997  These comfortable and affordable splash paddli...  \n",
       "998  This great-looking hoodie uses No Fly Zone Tec...  \n",
       "999  This US-made crossbody bag is built with the s...  \n",
       "\n",
       "[1000 rows x 2 columns]"
      ]
     },
     "execution_count": 73,
     "metadata": {},
     "output_type": "execute_result"
    }
   ],
   "source": [
    "import pandas as pd\n",
    "\n",
    "df = pd.read_csv(\"OutdoorClothingCatalog_1000.csv\", index_col=[0])\n",
    "df"
   ]
  },
  {
   "cell_type": "code",
   "execution_count": 79,
   "metadata": {},
   "outputs": [],
   "source": [
    "product_review_list = df.apply(\n",
    "    lambda row: f\"Product name: {row['name']} - Description: {row['description']}\",\n",
    "    axis=1,\n",
    ").tolist()\n",
    "product_review_list = product_review_list[:100]"
   ]
  },
  {
   "cell_type": "code",
   "execution_count": 80,
   "metadata": {},
   "outputs": [],
   "source": [
    "from langchain_community.vectorstores import Chroma\n",
    "from langchain_core.output_parsers import StrOutputParser\n",
    "from langchain_core.prompts import ChatPromptTemplate\n",
    "from langchain_core.runnables import RunnablePassthrough\n",
    "from langchain_fireworks import ChatFireworks\n",
    "from langchain_fireworks import FireworksEmbeddings\n",
    "\n",
    "llm = ChatFireworks(model=llm_model, temperature=0.5)\n",
    "embed_model = FireworksEmbeddings(model=embedding_model)\n",
    "\n",
    "vectorstore = Chroma.from_texts(product_review_list, embedding=embed_model)\n",
    "retriever = vectorstore.as_retriever(search_kwargs={\"k\": 10})\n",
    "template = \"\"\"Answer the question based only on the following context:\n",
    "{context}\n",
    "\n",
    "Question: {question}\n",
    "\"\"\"\n",
    "prompt = ChatPromptTemplate.from_template(template=template)\n",
    "\n",
    "\n",
    "def format_docs(docs):\n",
    "    return \"\\n\\n\".join(doc.page_content for doc in docs)\n",
    "\n",
    "\n",
    "rag_chain = (\n",
    "    {\"context\": retriever | format_docs, \"question\": RunnablePassthrough()}\n",
    "    | prompt\n",
    "    | llm\n",
    "    | StrOutputParser()\n",
    ")"
   ]
  },
  {
   "cell_type": "code",
   "execution_count": 89,
   "metadata": {},
   "outputs": [],
   "source": [
    "query = \"Please suggest a shirt with sunblocking\""
   ]
  },
  {
   "cell_type": "code",
   "execution_count": 90,
   "metadata": {},
   "outputs": [
    {
     "name": "stdout",
     "output_type": "stream",
     "text": [
      "Based on the provided context, I would suggest the following shirts with sunblocking features:\n",
      "\n",
      "1. Women's Tropical Plaid Shirt - This shirt has a UPF 50+ rating, which is the highest rated sun protection possible.\n",
      "2. Performance Plus Woven Shirt - This shirt has a UPF 40+ rating, which blocks the sun's UV rays.\n",
      "3. Rangeley Camp Performance Checked Flannel Shirt - Although not specifically mentioned as a sunblocking feature, the high-performance hollow-core polyester yarns in this shirt are designed to wick away moisture and dry fast, which may provide some level of sun protection.\n",
      "\n",
      "However, if you're looking for a shirt with the highest rated sun protection, I would recommend the Women's Tropical Plaid Shirt.\n"
     ]
    }
   ],
   "source": [
    "print(rag_chain.invoke(query))"
   ]
  },
  {
   "cell_type": "code",
   "execution_count": 85,
   "metadata": {},
   "outputs": [],
   "source": [
    "query = \" I need a throw pillow insert that fluffs up well. Any recommendations?\""
   ]
  },
  {
   "cell_type": "code",
   "execution_count": 87,
   "metadata": {},
   "outputs": [
    {
     "name": "stdout",
     "output_type": "stream",
     "text": [
      "Based on the reviews, I would highly recommend the \"Pillows Insert\" product. Every single review (all 7 of them) says that it's the best throw pillow filler on Amazon, and that it fluffs up great after being tossed in the dryer. They also mention that it's a big improvement over other cheap and flat inserts they've tried.\n"
     ]
    }
   ],
   "source": [
    "print(rag_chain.invoke(query))"
   ]
  },
  {
   "cell_type": "code",
   "execution_count": 93,
   "metadata": {},
   "outputs": [],
   "source": [
    "query = (\n",
    "    \"Please list all your shirts with sun protection in a table and summarize each one.\"\n",
    ")"
   ]
  },
  {
   "cell_type": "code",
   "execution_count": 94,
   "metadata": {},
   "outputs": [
    {
     "name": "stdout",
     "output_type": "stream",
     "text": [
      "Here is the list of shirts with sun protection in a table format:\n",
      "\n",
      "| **Product Name** | **Description** | **Sun Protection** |\n",
      "| --- | --- | --- |\n",
      "| Women's Tropical Plaid Shirt | Lightweight, breathable shirt for hot weather | UPF 50+ rated |\n",
      "| Performance Plus Woven Shirt | Breathable summer shirt with quick-dry fabric | UPF 40+ rated (but provides SPF 50+ sun protection) |\n",
      "| Smooth Comfort Check Shirt | Slightly fitted check shirt with wrinkle-free performance | No explicit sun protection rating, but has TrueCool fabric that wicks moisture away from skin |\n",
      "\n",
      "Note that the Rangeley Camp Performance Checked Flannel Shirt has a UPF rating, but it's not explicitly stated as providing sun protection, so I didn't include it in the table. The Easy-Care Classic Stripe Short-Sleeve Shirt and the Soft Cotton Colorblock Crew-Neck Top do not have any explicit sun protection features.\n",
      "\n",
      "Here's a brief summary of each shirt:\n",
      "\n",
      "* Women's Tropical Plaid Shirt: A lightweight, breathable shirt designed for hot weather, with UPF 50+ rated sun protection.\n",
      "* Performance Plus Woven Shirt: A breathable summer shirt with quick-dry fabric, designed for trail or travel, with UPF 40+ rated sun protection (but provides SPF 50+ sun protection).\n",
      "* Smooth Comfort Check Shirt: A slightly fitted check shirt with wrinkle-free performance, featuring TrueCool fabric that wicks moisture away from skin, but no explicit sun protection rating.\n"
     ]
    }
   ],
   "source": [
    "print(rag_chain.invoke(query))"
   ]
  }
 ],
 "metadata": {
  "kernelspec": {
   "display_name": "Python 3",
   "language": "python",
   "name": "python3"
  },
  "language_info": {
   "codemirror_mode": {
    "name": "ipython",
    "version": 3
   },
   "file_extension": ".py",
   "mimetype": "text/x-python",
   "name": "python",
   "nbconvert_exporter": "python",
   "pygments_lexer": "ipython3",
   "version": "3.11.9"
  }
 },
 "nbformat": 4,
 "nbformat_minor": 2
}
